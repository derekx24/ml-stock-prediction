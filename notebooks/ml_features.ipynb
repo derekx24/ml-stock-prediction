{
 "cells": [
  {
   "cell_type": "code",
   "execution_count": null,
   "id": "84c3da83",
   "metadata": {},
   "outputs": [],
   "source": [
    "import pandas as pd\n",
    "import numpy as np\n",
    "\n",
    "monthly_prices = pd.read_csv(\"../data/processed/prices_monthly.csv\", index_col=0, parse_dates=True)\n",
    "monthly_returns = pd.read_csv(\"../data/processed/returns_monthly.csv\", index_col=0, parse_dates=True)\n",
    "ff5 = pd.read_csv(\"../data/processed/ff5_monthly_clean.csv\", index_col=0, parse_dates=True)\n",
    "panel = pd.read_csv(\"../data/processed/panel_monthly_with_ff5.csv\", index_col=[0,1], parse_dates=[0])\n",
    "\n",
    "ff5.index = ff5.index + pd.offsets.MonthEnd(0)\n",
    "\n",
    "# Momentum\n",
    "mom_12_1 = monthly_prices.shift(1) / monthly_prices.shift(13) - 1\n",
    "mom_6_1  = monthly_prices.shift(1) / monthly_prices.shift(7)  - 1\n",
    "mom_3_1  = monthly_prices.shift(1) / monthly_prices.shift(4)  - 1\n",
    "\n",
    "# 3 month volatility of returns\n",
    "vol_3m = monthly_returns.rolling(3).std()"
   ]
  }
 ],
 "metadata": {
  "kernelspec": {
   "display_name": "ml-stocks",
   "language": "python",
   "name": "python3"
  },
  "language_info": {
   "codemirror_mode": {
    "name": "ipython",
    "version": 3
   },
   "file_extension": ".py",
   "mimetype": "text/x-python",
   "name": "python",
   "nbconvert_exporter": "python",
   "pygments_lexer": "ipython3",
   "version": "3.11.13"
  }
 },
 "nbformat": 4,
 "nbformat_minor": 5
}
