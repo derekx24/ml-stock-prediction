{
 "cells": [
  {
   "cell_type": "markdown",
   "id": "18eb05d7",
   "metadata": {},
   "source": [
    "# Predicting Next-Month Excess Returns with ML\n",
    "\n",
    "In this notebook, we train machine learning models to predict next-month excess returns for a set of stocks. \n",
    "\n",
    "We use the feature matrix created in the ml_features notebook which includes:\n",
    "\n",
    "- Momentum indicators (`12-1`, `6-1`, `3-1`)\n",
    "- 3-month rolling volatility\n",
    "- Lagged Fama-French 5 factors\n",
    "\n",
    "We compare the performance of three models:\n",
    "- Linear Regression\n",
    "- Random Forest Regressor\n",
    "- XGBoost Regressor"
   ]
  },
  {
   "cell_type": "code",
   "execution_count": 1,
   "id": "ebe4db6f",
   "metadata": {},
   "outputs": [
    {
     "name": "stdout",
     "output_type": "stream",
     "text": [
      "R²: -0.2538394511906015\n",
      "MSE: 0.011532806507899838\n",
      "y_test mean: 0.03783213784293213\n",
      "y_pred mean: -0.010491452219582255\n"
     ]
    }
   ],
   "source": [
    "import pandas as pd\n",
    "from sklearn.linear_model import LinearRegression\n",
    "from sklearn.metrics import r2_score, mean_squared_error\n",
    "\n",
    "data = pd.read_csv(\"../data/processed/ml_feature_matrix.csv\", index_col=[0, 1], parse_dates=[0])\n",
    "data = data.dropna()\n",
    "\n",
    "X = data.drop(columns=[\"y_next\"])\n",
    "X = X.drop(columns=[\"key_0\"])\n",
    "y = data[\"y_next\"]\n",
    "\n",
    "# sort by date + split based on time\n",
    "dates = X.index.get_level_values(0).sort_values().unique()\n",
    "split_point = int(len(dates) * 0.8)\n",
    "train_dates = dates[:split_point]\n",
    "test_dates = dates[split_point:]\n",
    "\n",
    "X_train = X.loc[X.index.get_level_values(0).isin(train_dates)]\n",
    "X_test  = X.loc[X.index.get_level_values(0).isin(test_dates)]\n",
    "y_train = y.loc[X_train.index]\n",
    "y_test  = y.loc[X_test.index]\n",
    "\n",
    "# train Linear Regression\n",
    "lr = LinearRegression().fit(X_train, y_train)\n",
    "y_pred = lr.predict(X_test)\n",
    "\n",
    "# Evaluate\n",
    "print(\"R²:\", r2_score(y_test, y_pred))\n",
    "print(\"MSE:\", mean_squared_error(y_test, y_pred))\n",
    "\n",
    "print(\"y_test mean:\", y_test.mean())\n",
    "print(\"y_pred mean:\", y_pred.mean())"
   ]
  },
  {
   "cell_type": "code",
   "execution_count": null,
   "id": "02639f45",
   "metadata": {},
   "outputs": [
    {
     "name": "stdout",
     "output_type": "stream",
     "text": [
      "RandomForest — R²: -0.3728113763178946\n",
      "RandomForest — MSE: 0.012627109443624615\n",
      "y_test mean: 0.03783213784293213\n",
      "rf_pred mean: 0.0027211695173584302\n"
     ]
    }
   ],
   "source": [
    "from sklearn.ensemble import RandomForestRegressor\n",
    "from sklearn.metrics import r2_score, mean_squared_error\n",
    "import pandas as pd\n",
    "\n",
    "rf = RandomForestRegressor(\n",
    "    n_estimators=400,\n",
    "    max_depth=None,\n",
    "    min_samples_leaf=3,\n",
    "    n_jobs=-1,\n",
    "    random_state=42,\n",
    ")\n",
    "rf.fit(X_train, y_train)\n",
    "\n",
    "rf_pred = rf.predict(X_test)\n",
    "\n",
    "print(\"RandomForest R²:\", r2_score(y_test, rf_pred))\n",
    "print(\"RandomForest MSE:\", mean_squared_error(y_test, rf_pred))\n",
    "print(\"y_test mean:\", y_test.mean())\n",
    "print(\"rf_pred mean:\", pd.Series(rf_pred, index=y_test.index).mean())\n",
    "\n",
    "# Top features\n",
    "rf_imp = pd.Series(rf.feature_importances_, index=X_train.columns).sort_values(ascending=False)"
   ]
  }
 ],
 "metadata": {
  "kernelspec": {
   "display_name": "ml-stocks",
   "language": "python",
   "name": "python3"
  },
  "language_info": {
   "codemirror_mode": {
    "name": "ipython",
    "version": 3
   },
   "file_extension": ".py",
   "mimetype": "text/x-python",
   "name": "python",
   "nbconvert_exporter": "python",
   "pygments_lexer": "ipython3",
   "version": "3.11.13"
  }
 },
 "nbformat": 4,
 "nbformat_minor": 5
}
