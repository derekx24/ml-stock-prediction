{
 "cells": [
  {
   "cell_type": "markdown",
   "id": "18eb05d7",
   "metadata": {},
   "source": [
    "# Predicting Next-Month Excess Returns with ML\n",
    "\n",
    "In this notebook, we train machine learning models to predict next-month excess returns for a set of stocks. \n",
    "\n",
    "We use the feature matrix created in the ml_features notebook which includes:\n",
    "\n",
    "- Momentum indicators (`12-1`, `6-1`, `3-1`)\n",
    "- 3-month rolling volatility\n",
    "- Lagged Fama-French 5 factors\n",
    "\n",
    "We compare the performance of three models:\n",
    "- Linear Regression\n",
    "- Random Forest Regressor\n",
    "- XGBoost Regressor"
   ]
  }
 ],
 "metadata": {
  "language_info": {
   "name": "python"
  }
 },
 "nbformat": 4,
 "nbformat_minor": 5
}
