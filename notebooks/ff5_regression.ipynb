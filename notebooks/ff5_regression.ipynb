{
 "cells": [
  {
   "cell_type": "markdown",
   "id": "6d7f0668",
   "metadata": {},
   "source": [
    "# Baseline FF5 Factor Regression\n",
    "\n",
    "This notebook performs OLS regressions of each stock's monthly excess returns on the Fama-French 5 factors Mkt-RF, SMB, HML, RMW, CMA."
   ]
  },
  {
   "cell_type": "code",
   "execution_count": 1,
   "id": "36b858dd",
   "metadata": {},
   "outputs": [],
   "source": [
    "import pandas as pd, statsmodels.api as sm\n",
    "\n",
    "panel = pd.read_csv(\"../data/processed/panel_monthly_with_ff5.csv\",\n",
    "                    index_col=[0,1], parse_dates=[0])\n",
    "\n",
    "tickers = panel.index.get_level_values(1).unique()\n",
    "rows_coef, rows_r2 = [], []\n",
    "\n",
    "for t in tickers:\n",
    "    df = panel.xs(t, level=1).dropna()\n",
    "    y = df[\"excess_ret\"]\n",
    "    X = sm.add_constant(df[[\"Mkt-RF\",\"SMB\",\"HML\",\"RMW\",\"CMA\"]])\n",
    "    res = sm.OLS(y, X).fit()\n",
    "    rows_coef.append(pd.Series(res.params, name=t))\n",
    "    rows_r2.append(pd.Series({\"r2\": res.rsquared}, name=t))\n",
    "\n",
    "coefs = pd.DataFrame(rows_coef)\n",
    "r2    = pd.DataFrame(rows_r2)\n",
    "coefs.to_csv(\"../data/processed/ff5_betas.csv\")\n",
    "r2.to_csv(\"../data/processed/ff5_r2.csv\")\n"
   ]
  }
 ],
 "metadata": {
  "kernelspec": {
   "display_name": "ml-stocks",
   "language": "python",
   "name": "python3"
  },
  "language_info": {
   "codemirror_mode": {
    "name": "ipython",
    "version": 3
   },
   "file_extension": ".py",
   "mimetype": "text/x-python",
   "name": "python",
   "nbconvert_exporter": "python",
   "pygments_lexer": "ipython3",
   "version": "3.11.13"
  }
 },
 "nbformat": 4,
 "nbformat_minor": 5
}
