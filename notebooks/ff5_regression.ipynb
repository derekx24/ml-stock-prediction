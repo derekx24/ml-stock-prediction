{
 "cells": [
  {
   "cell_type": "markdown",
   "id": "6d7f0668",
   "metadata": {},
   "source": [
    "# Baseline FF5 Factor Regression\n",
    "\n",
    "This notebook performs OLS regressions of each stock's monthly excess returns on the Fama-French 5 factors Mkt-RF, SMB, HML, RMW, CMA."
   ]
  },
  {
   "cell_type": "code",
   "execution_count": null,
   "id": "36b858dd",
   "metadata": {},
   "outputs": [
    {
     "name": "stdout",
     "output_type": "stream",
     "text": [
      "Number of tickers estimated: 10\n",
      "Sample coefficients (first 5):\n",
      "         const    Mkt-RF       SMB       HML       RMW       CMA\n",
      "AAPL  0.007506  1.181501 -0.042462 -0.557948  0.657246 -0.075277\n",
      "AMZN  0.009574  1.266596 -0.679399 -0.400701 -0.846374 -0.891271\n",
      "GOOG  0.004401  0.938483 -0.540276  0.128854 -0.019171 -0.872771\n",
      "HD    0.003296  0.970879  0.289136 -0.178542  0.613778  0.226112\n",
      "JPM   0.007372  1.072965 -0.168611  1.145773 -0.619134 -0.498653\n",
      "R² stats: mean = 0.488414384892054 , min = 0.24917704094158222 , max = 0.7719922998285793\n"
     ]
    }
   ],
   "source": [
    "import pandas as pd, statsmodels.api as sm\n",
    "\n",
    "panel = pd.read_csv(\n",
    "    \"../data/processed/panel_monthly_with_ff5.csv\",\n",
    "    index_col=[0,1], parse_dates=[0]\n",
    ")\n",
    "panel.index.set_names([\"date\", \"ticker\"], inplace=True)\n",
    "\n",
    "tickers = panel.index.get_level_values(\"ticker\").unique()\n",
    "rows_coef, rows_r2 = [], []\n",
    "\n",
    "for t in tickers:\n",
    "    df = panel.xs(t, level=\"ticker\").dropna()\n",
    "    y = df[\"excess_ret\"]\n",
    "    X = sm.add_constant(df[[\"Mkt-RF\",\"SMB\",\"HML\",\"RMW\",\"CMA\"]])\n",
    "    res = sm.OLS(y, X).fit()\n",
    "    rows_coef.append(pd.Series(res.params, name=t))\n",
    "    rows_r2.append(pd.Series({\"r2\": res.rsquared}, name=t))\n",
    "\n",
    "coefs = pd.DataFrame(rows_coef).sort_index()\n",
    "r2    = pd.DataFrame(rows_r2).sort_index()\n",
    "\n",
    "coefs.to_csv(\"../data/processed/ff5_betas.csv\")\n",
    "r2.to_csv(\"../data/processed/ff5_r2.csv\")\n",
    "\n",
    "print(coefs.head())\n",
    "print(\"R² stats: mean =\", r2[\"r2\"].mean(), \", min =\", r2[\"r2\"].min(), \", max =\", r2[\"r2\"].max())\n"
   ]
  }
 ],
 "metadata": {
  "kernelspec": {
   "display_name": "ml-stocks",
   "language": "python",
   "name": "python3"
  },
  "language_info": {
   "codemirror_mode": {
    "name": "ipython",
    "version": 3
   },
   "file_extension": ".py",
   "mimetype": "text/x-python",
   "name": "python",
   "nbconvert_exporter": "python",
   "pygments_lexer": "ipython3",
   "version": "3.11.13"
  }
 },
 "nbformat": 4,
 "nbformat_minor": 5
}
