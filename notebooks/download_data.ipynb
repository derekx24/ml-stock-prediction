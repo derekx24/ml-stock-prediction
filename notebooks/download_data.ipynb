{
 "cells": [
  {
   "cell_type": "markdown",
   "id": "0c0bea8a",
   "metadata": {},
   "source": [
    "# Downloading Stock Price Data\n",
    "\n",
    "This notebook downloads historical stock data using the `yfinance` API and prepares both daily and monthly datasets for analysis.\n"
   ]
  },
  {
   "cell_type": "code",
   "execution_count": 21,
   "metadata": {},
   "outputs": [
    {
     "name": "stderr",
     "output_type": "stream",
     "text": [
      "[*********************100%***********************]  10 of 10 completed\n"
     ]
    }
   ],
   "source": [
    "import yfinance as yf\n",
    "import pandas as pd\n",
    "\n",
    "# Select tickers \n",
    "tickers = ['AAPL', 'MSFT', 'GOOG', 'AMZN', 'META', 'TSLA', 'NVDA', 'JPM', 'UNH', 'HD']\n",
    "\n",
    "# Download close prices\n",
    "prices = yf.download(tickers, start=\"2014-01-01\", end=\"2024-12-31\", auto_adjust=True)['Close']\n",
    "daily_returns = prices.pct_change().dropna()\n",
    "\n",
    "# Save raw prices and returns\n",
    "prices.to_csv('../data/raw/prices.csv')\n",
    "daily_returns.to_csv('../data/raw/returns_daily.csv')\n",
    "\n",
    "# Resample to monthly\n",
    "monthly_prices = prices.resample('ME').last()\n",
    "monthly_returns = monthly_prices.pct_change().dropna()\n",
    "monthly_prices.to_csv('../data/processed/prices_monthly.csv')\n",
    "monthly_returns.to_csv('../data/processed/returns_monthly.csv')"
   ]
  },
  {
   "cell_type": "code",
   "execution_count": null,
   "id": "f6f74a32",
   "metadata": {},
   "outputs": [
    {
     "data": {
      "text/html": [
       "<div>\n",
       "<style scoped>\n",
       "    .dataframe tbody tr th:only-of-type {\n",
       "        vertical-align: middle;\n",
       "    }\n",
       "\n",
       "    .dataframe tbody tr th {\n",
       "        vertical-align: top;\n",
       "    }\n",
       "\n",
       "    .dataframe thead th {\n",
       "        text-align: right;\n",
       "    }\n",
       "</style>\n",
       "<table border=\"1\" class=\"dataframe\">\n",
       "  <thead>\n",
       "    <tr style=\"text-align: right;\">\n",
       "      <th></th>\n",
       "      <th>Mkt-RF</th>\n",
       "      <th>SMB</th>\n",
       "      <th>HML</th>\n",
       "      <th>RMW</th>\n",
       "      <th>CMA</th>\n",
       "      <th>RF</th>\n",
       "    </tr>\n",
       "    <tr>\n",
       "      <th>Date</th>\n",
       "      <th></th>\n",
       "      <th></th>\n",
       "      <th></th>\n",
       "      <th></th>\n",
       "      <th></th>\n",
       "      <th></th>\n",
       "    </tr>\n",
       "  </thead>\n",
       "  <tbody>\n",
       "    <tr>\n",
       "      <th>2025-01-01</th>\n",
       "      <td>0.0280</td>\n",
       "      <td>-0.0122</td>\n",
       "      <td>0.0163</td>\n",
       "      <td>-0.0232</td>\n",
       "      <td>-0.0324</td>\n",
       "      <td>0.0037</td>\n",
       "    </tr>\n",
       "    <tr>\n",
       "      <th>2025-02-01</th>\n",
       "      <td>-0.0243</td>\n",
       "      <td>-0.0491</td>\n",
       "      <td>0.0491</td>\n",
       "      <td>0.0110</td>\n",
       "      <td>0.0306</td>\n",
       "      <td>0.0033</td>\n",
       "    </tr>\n",
       "    <tr>\n",
       "      <th>2025-03-01</th>\n",
       "      <td>-0.0639</td>\n",
       "      <td>-0.0149</td>\n",
       "      <td>0.0290</td>\n",
       "      <td>0.0211</td>\n",
       "      <td>-0.0047</td>\n",
       "      <td>0.0034</td>\n",
       "    </tr>\n",
       "    <tr>\n",
       "      <th>2025-04-01</th>\n",
       "      <td>-0.0084</td>\n",
       "      <td>-0.0186</td>\n",
       "      <td>-0.0340</td>\n",
       "      <td>-0.0285</td>\n",
       "      <td>-0.0267</td>\n",
       "      <td>0.0035</td>\n",
       "    </tr>\n",
       "    <tr>\n",
       "      <th>2025-05-01</th>\n",
       "      <td>0.0606</td>\n",
       "      <td>-0.0072</td>\n",
       "      <td>-0.0288</td>\n",
       "      <td>0.0127</td>\n",
       "      <td>0.0250</td>\n",
       "      <td>0.0038</td>\n",
       "    </tr>\n",
       "  </tbody>\n",
       "</table>\n",
       "</div>"
      ],
      "text/plain": [
       "            Mkt-RF     SMB     HML     RMW     CMA      RF\n",
       "Date                                                      \n",
       "2025-01-01  0.0280 -0.0122  0.0163 -0.0232 -0.0324  0.0037\n",
       "2025-02-01 -0.0243 -0.0491  0.0491  0.0110  0.0306  0.0033\n",
       "2025-03-01 -0.0639 -0.0149  0.0290  0.0211 -0.0047  0.0034\n",
       "2025-04-01 -0.0084 -0.0186 -0.0340 -0.0285 -0.0267  0.0035\n",
       "2025-05-01  0.0606 -0.0072 -0.0288  0.0127  0.0250  0.0038"
      ]
     },
     "execution_count": 27,
     "metadata": {},
     "output_type": "execute_result"
    }
   ],
   "source": [
    "from pathlib import Path\n",
    "\n",
    "FF5_CSV = Path('../data/raw/F-F_Research_Data_5_Factors_2x3.csv')\n",
    "if not FF5_CSV.exists():\n",
    "    raise FileNotFoundError(\n",
    "        f\"Couldn't find {FF5_CSV}. Download the CSV named 'F-F_Research_Data_5_Factors_2x3.csv' (Monthly) from the Kenneth French Data Library\" \n",
    "    )\n",
    "\n",
    "# read and clean\n",
    "raw = pd.read_csv(FF5_CSV, skiprows=3)\n",
    "raw = raw.rename(columns={raw.columns[0]: \"Date\"})\n",
    "raw = raw[raw[\"Date\"].astype(str).str.match(r\"^\\d{6}$\", na=False)]\n",
    "raw = raw.iloc[:, :7]\n",
    "\n",
    "cols = [\"Date\", \"Mkt-RF\", \"SMB\", \"HML\", \"RMW\", \"CMA\", \"RF\"]\n",
    "raw.columns = cols[:raw.shape[1]]\n",
    "\n",
    "raw[\"Date\"] = pd.to_datetime(raw[\"Date\"], format=\"%Y%m\")\n",
    "raw.set_index(\"Date\", inplace=True)\n",
    "ff5 = raw.astype(float) / 100.0\n",
    "\n",
    "ff5.to_csv(\"../data/processed/ff5_monthly_clean.csv\")\n",
    "ff5.head()\n"
   ]
  },
  {
   "cell_type": "code",
   "execution_count": null,
   "id": "95d58192",
   "metadata": {},
   "outputs": [],
   "source": [
    "# merge ff factors with stock returns on date\n",
    "ff5.index = ff5.index + pd.offsets.MonthEnd(0)\n",
    "panel = monthly_returns.stack().rename(\"ret\").to_frame()\n",
    "panel = panel.join(ff5, how=\"inner\")\n",
    "panel[\"excess_ret\"] = panel[\"ret\"] - panel[\"RF\"]\n",
    "\n",
    "panel.to_csv(\"../data/processed/panel_monthly_with_ff5.csv\")\n",
    "print(\"Date range:\", panel.index.get_level_values(0).min(), \"to\", panel.index.get_level_values(0).max())\n",
    "panel.head()"
   ]
  }
 ],
 "metadata": {
  "kernelspec": {
   "display_name": "ml-stocks",
   "language": "python",
   "name": "python3"
  },
  "language_info": {
   "codemirror_mode": {
    "name": "ipython",
    "version": 3
   },
   "file_extension": ".py",
   "mimetype": "text/x-python",
   "name": "python",
   "nbconvert_exporter": "python",
   "pygments_lexer": "ipython3",
   "version": "3.11.13"
  }
 },
 "nbformat": 4,
 "nbformat_minor": 5
}
