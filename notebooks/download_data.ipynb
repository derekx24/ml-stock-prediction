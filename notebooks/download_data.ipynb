{
 "cells": [
  {
   "cell_type": "code",
   "execution_count": 3,
   "metadata": {},
   "outputs": [
    {
     "name": "stderr",
     "output_type": "stream",
     "text": [
      "C:\\Users\\derek\\AppData\\Local\\Temp\\ipykernel_23012\\1121582827.py:8: FutureWarning: YF.download() has changed argument auto_adjust default to True\n",
      "  prices = yf.download(tickers, start=\"2014-01-01\", end=\"2024-12-31\")\n",
      "[*********************100%***********************]  10 of 10 completed\n"
     ]
    }
   ],
   "source": [
    "import yfinance as yf\n",
    "import pandas as pd\n",
    "\n",
    "# Select tickers \n",
    "tickers = ['AAPL', 'MSFT', 'GOOG', 'AMZN', 'META', 'TSLA', 'NVDA', 'JPM', 'UNH', 'HD']\n",
    "\n",
    "# Download close prices\n",
    "prices = yf.download(tickers, start=\"2014-01-01\", end=\"2024-12-31\")\n",
    "returns = prices.pct_change().dropna()\n",
    "\n",
    "# Save raw prices and returns\n",
    "prices.to_csv('../data/raw/prices.csv')\n",
    "returns.to_csv('../data/raw/returns.csv')"
   ]
  }
 ],
 "metadata": {
  "kernelspec": {
   "display_name": "ml-stocks",
   "language": "python",
   "name": "python3"
  },
  "language_info": {
   "codemirror_mode": {
    "name": "ipython",
    "version": 3
   },
   "file_extension": ".py",
   "mimetype": "text/x-python",
   "name": "python",
   "nbconvert_exporter": "python",
   "pygments_lexer": "ipython3",
   "version": "3.11.13"
  }
 },
 "nbformat": 4,
 "nbformat_minor": 5
}
