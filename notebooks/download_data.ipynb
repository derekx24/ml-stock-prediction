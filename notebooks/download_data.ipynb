{
 "cells": [
  {
   "cell_type": "markdown",
   "id": "0c0bea8a",
   "metadata": {},
   "source": [
    "# Downloading Stock Price Data\n",
    "\n",
    "This notebook downloads historical stock data using the `yfinance` API and prepares both daily and monthly datasets for analysis.\n"
   ]
  },
  {
   "cell_type": "code",
   "execution_count": 5,
   "metadata": {},
   "outputs": [
    {
     "name": "stderr",
     "output_type": "stream",
     "text": [
      "[*********************100%***********************]  10 of 10 completed\n"
     ]
    }
   ],
   "source": [
    "import yfinance as yf\n",
    "import pandas as pd\n",
    "\n",
    "# Select tickers \n",
    "tickers = ['AAPL', 'MSFT', 'GOOG', 'AMZN', 'META', 'TSLA', 'NVDA', 'JPM', 'UNH', 'HD']\n",
    "\n",
    "# Download close prices\n",
    "prices = yf.download(tickers, start=\"2014-01-01\", end=\"2024-12-31\", auto_adjust=True)\n",
    "daily_returns = prices.pct_change().dropna()\n",
    "\n",
    "# Save raw prices and returns\n",
    "prices.to_csv('../data/raw/prices.csv')\n",
    "daily_returns.to_csv('../data/raw/returns_daily.csv')\n",
    "\n",
    "# Resample to monthly\n",
    "monthly_prices = prices.resample('ME').last()\n",
    "monthly_returns = monthly_prices.pct_change().dropna()\n",
    "monthly_prices.to_csv('../data/processed/prices_monthly.csv')\n",
    "monthly_returns.to_csv('../data/processed/returns_monthly.csv')\n"
   ]
  }
 ],
 "metadata": {
  "kernelspec": {
   "display_name": "ml-stocks",
   "language": "python",
   "name": "python3"
  },
  "language_info": {
   "codemirror_mode": {
    "name": "ipython",
    "version": 3
   },
   "file_extension": ".py",
   "mimetype": "text/x-python",
   "name": "python",
   "nbconvert_exporter": "python",
   "pygments_lexer": "ipython3",
   "version": "3.11.13"
  }
 },
 "nbformat": 4,
 "nbformat_minor": 5
}
